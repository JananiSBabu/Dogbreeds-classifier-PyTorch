{
 "cells": [
  {
   "cell_type": "markdown",
   "metadata": {},
   "source": [
    "### Project learnings\n",
    "\n",
    "**Classifier to identify dogbreeds**\n"
   ]
  },
  {
   "cell_type": "code",
   "execution_count": 2,
   "metadata": {},
   "outputs": [
    {
     "name": "stdout",
     "output_type": "stream",
     "text": [
      "\n",
      "Total Elapsed Runtime: 25.00196671485901 in seconds.\n"
     ]
    }
   ],
   "source": [
    "# Imports time() and sleep() functions from time module\n",
    "from time import time, sleep\n",
    "\n",
    "# Sets start time\n",
    "start_time = time()\n",
    "\n",
    "# Replace sleep(75) below with code you want to time\n",
    "sleep(25)\n",
    "\n",
    "# Sets end time\n",
    "end_time = time()\n",
    "\n",
    "# Computes overall runtime in seconds\n",
    "tot_time = end_time - start_time\n",
    "\n",
    "# Prints overall runtime in seconds\n",
    "print(\"\\nTotal Elapsed Runtime:\", tot_time, \"in seconds.\")"
   ]
  },
  {
   "cell_type": "code",
   "execution_count": null,
   "metadata": {},
   "outputs": [],
   "source": []
  }
 ],
 "metadata": {
  "kernelspec": {
   "display_name": "Python 3",
   "language": "python",
   "name": "python3"
  },
  "language_info": {
   "codemirror_mode": {
    "name": "ipython",
    "version": 3
   },
   "file_extension": ".py",
   "mimetype": "text/x-python",
   "name": "python",
   "nbconvert_exporter": "python",
   "pygments_lexer": "ipython3",
   "version": "3.7.7"
  }
 },
 "nbformat": 4,
 "nbformat_minor": 4
}
