{
 "cells": [
  {
   "cell_type": "markdown",
   "metadata": {},
   "source": [
    "### Project learnings\n",
    "\n",
    "**Classifier to identify dogbreeds**\n"
   ]
  },
  {
   "cell_type": "code",
   "execution_count": 3,
   "metadata": {},
   "outputs": [
    {
     "name": "stdout",
     "output_type": "stream",
     "text": [
      "\n",
      "Total Elapsed Runtime: 25.00088930130005 in seconds.\n",
      "\n",
      "Total Elapsed Runtime: 0:0:25\n"
     ]
    }
   ],
   "source": [
    "# Imports time() and sleep() functions from time module\n",
    "from time import time, sleep\n",
    "\n",
    "# Sets start time\n",
    "start_time = time()\n",
    "\n",
    "# Replace sleep(75) below with code you want to time\n",
    "sleep(25)\n",
    "\n",
    "# Sets end time\n",
    "end_time = time()\n",
    "\n",
    "# Computes overall runtime in seconds\n",
    "tot_time = end_time - start_time\n",
    "\n",
    "# Prints overall runtime in seconds\n",
    "print(\"\\nTotal Elapsed Runtime:\", tot_time, \"in seconds.\")\n",
    "\n",
    "# Prints overall runtime in format hh:mm:ss\n",
    "# here % is used to find the remaining minutes or seconds\n",
    "print(\"\\nTotal Elapsed Runtime:\", str( int( (tot_time / 3600) ) ) + \":\" +\n",
    "          str( int(  ( (tot_time % 3600) / 60 )  ) ) + \":\" + \n",
    "          str( int(  ( (tot_time % 3600) % 60 ) ) ) ) "
   ]
  },
  {
   "cell_type": "markdown",
   "metadata": {},
   "source": [
    "### reading files from folder"
   ]
  },
  {
   "cell_type": "code",
   "execution_count": 37,
   "metadata": {},
   "outputs": [
    {
     "data": {
      "text/plain": [
       "{'Basenji_00963.jpg': ['basenji'],\n",
       " 'Basenji_00974.jpg': ['basenji'],\n",
       " 'Basset_hound_01034.jpg': ['basset hound'],\n",
       " 'Beagle_01125.jpg': ['beagle'],\n",
       " 'Beagle_01141.jpg': ['beagle'],\n",
       " 'Beagle_01170.jpg': ['beagle'],\n",
       " 'Boston_terrier_02259.jpg': ['boston terrier'],\n",
       " 'Boston_terrier_02285.jpg': ['boston terrier'],\n",
       " 'Boston_terrier_02303.jpg': ['boston terrier'],\n",
       " 'Boxer_02426.jpg': ['boxer'],\n",
       " 'cat_01.jpg': ['cat'],\n",
       " 'cat_02.jpg': ['cat'],\n",
       " 'cat_07.jpg': ['cat'],\n",
       " 'Cocker_spaniel_03750.jpg': ['cocker spaniel'],\n",
       " 'Collie_03797.jpg': ['collie'],\n",
       " 'Dalmatian_04017.jpg': ['dalmatian'],\n",
       " 'Dalmatian_04037.jpg': ['dalmatian'],\n",
       " 'Dalmatian_04068.jpg': ['dalmatian'],\n",
       " 'fox_squirrel_01.jpg': ['fox squirrel'],\n",
       " 'gecko_02.jpg': ['gecko'],\n",
       " 'gecko_80.jpg': ['gecko'],\n",
       " 'German_shepherd_dog_04890.jpg': ['german shepherd dog'],\n",
       " 'German_shepherd_dog_04931.jpg': ['german shepherd dog'],\n",
       " 'German_shorthaired_pointer_04986.jpg': ['german shorthaired pointer'],\n",
       " 'Golden_retriever_05182.jpg': ['golden retriever'],\n",
       " 'Golden_retriever_05195.jpg': ['golden retriever'],\n",
       " 'Golden_retriever_05223.jpg': ['golden retriever'],\n",
       " 'Golden_retriever_05257.jpg': ['golden retriever'],\n",
       " 'Great_dane_05320.jpg': ['great dane'],\n",
       " 'great_horned_owl_02.jpg': ['great horned owl'],\n",
       " 'Great_pyrenees_05367.jpg': ['great pyrenees'],\n",
       " 'Great_pyrenees_05435.jpg': ['great pyrenees'],\n",
       " 'Miniature_schnauzer_06884.jpg': ['miniature schnauzer'],\n",
       " 'polar_bear_04.jpg': ['polar bear'],\n",
       " 'Poodle_07927.jpg': ['poodle'],\n",
       " 'Poodle_07956.jpg': ['poodle'],\n",
       " 'Rabbit_002.jpg': ['rabbit'],\n",
       " 'Saint_bernard_08010.jpg': ['saint bernard'],\n",
       " 'Saint_bernard_08036.jpg': ['saint bernard'],\n",
       " 'skunk_029.jpg': ['skunk']}"
      ]
     },
     "execution_count": 37,
     "metadata": {},
     "output_type": "execute_result"
    }
   ],
   "source": [
    "from os import listdir\n",
    "\n",
    "image_dir = \"intropyproject-classify-pet-images\\pet_images\"\n",
    "file_list = listdir(image_dir)\n",
    "\n",
    "results_dic = dict()\n",
    "\n",
    "for item in file_list:\n",
    "    splitnames = item.split('.')[0].split('_')[:-1]\n",
    "    label = \" \".join(splitnames).lower().strip()\n",
    "    results_dic[item]=[label]\n",
    "    \n",
    "results_dic"
   ]
  },
  {
   "cell_type": "code",
   "execution_count": 38,
   "metadata": {},
   "outputs": [
    {
     "name": "stdout",
     "output_type": "stream",
     "text": [
      "\n",
      "Filename= Boston_terrier_02259.jpg    Label= boston terrier\n"
     ]
    }
   ],
   "source": [
    "# Sets pet_image variable to a filename \n",
    "pet_image = \"Boston_terrier_02259.jpg\"\n",
    "\n",
    "# Sets string to lower case letters\n",
    "low_pet_image = pet_image.lower()\n",
    "\n",
    "# Splits lower case string by _ to break into words \n",
    "word_list_pet_image = low_pet_image.split(\"_\")\n",
    "\n",
    "# Create pet_name starting as empty string\n",
    "pet_name = \"\"\n",
    "\n",
    "# Loops to check if word in pet name is only\n",
    "# alphabetic characters - if true append word\n",
    "# to pet_name separated by trailing space \n",
    "for word in word_list_pet_image:\n",
    "    if word.isalpha():\n",
    "        pet_name += word + \" \"\n",
    "\n",
    "# Strip off starting/trailing whitespace characters \n",
    "pet_name = pet_name.strip()\n",
    "\n",
    "# Prints resulting pet_name\n",
    "print(\"\\nFilename=\", pet_image, \"   Label=\", pet_name)"
   ]
  },
  {
   "cell_type": "code",
   "execution_count": null,
   "metadata": {},
   "outputs": [],
   "source": [
    "for k, v in results_dic.items():\n",
    "    \n",
    "    \n",
    "    "
   ]
  }
 ],
 "metadata": {
  "kernelspec": {
   "display_name": "Python 3",
   "language": "python",
   "name": "python3"
  },
  "language_info": {
   "codemirror_mode": {
    "name": "ipython",
    "version": 3
   },
   "file_extension": ".py",
   "mimetype": "text/x-python",
   "name": "python",
   "nbconvert_exporter": "python",
   "pygments_lexer": "ipython3",
   "version": "3.7.7"
  }
 },
 "nbformat": 4,
 "nbformat_minor": 4
}
